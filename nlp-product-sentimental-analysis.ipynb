{
 "cells": [
  {
   "cell_type": "code",
   "execution_count": 1,
   "id": "747e8923",
   "metadata": {
    "_cell_guid": "b1076dfc-b9ad-4769-8c92-a6c4dae69d19",
    "_uuid": "8f2839f25d086af736a60e9eeb907d3b93b6e0e5",
    "execution": {
     "iopub.execute_input": "2023-05-13T10:51:56.077498Z",
     "iopub.status.busy": "2023-05-13T10:51:56.077054Z",
     "iopub.status.idle": "2023-05-13T10:51:56.095674Z",
     "shell.execute_reply": "2023-05-13T10:51:56.094439Z"
    },
    "papermill": {
     "duration": 0.03359,
     "end_time": "2023-05-13T10:51:56.098228",
     "exception": false,
     "start_time": "2023-05-13T10:51:56.064638",
     "status": "completed"
    },
    "tags": []
   },
   "outputs": [
    {
     "name": "stdout",
     "output_type": "stream",
     "text": [
      "/kaggle/input/flipkart-product-customer-reviews-dataset/Dataset-SA.csv\n"
     ]
    }
   ],
   "source": [
    "# This Python 3 environment comes with many helpful analytics libraries installed\n",
    "# It is defined by the kaggle/python Docker image: https://github.com/kaggle/docker-python\n",
    "# For example, here's several helpful packages to load\n",
    "\n",
    "import numpy as np # linear algebra\n",
    "import pandas as pd # data processing, CSV file I/O (e.g. pd.read_csv)\n",
    "\n",
    "# Input data files are available in the read-only \"../input/\" directory\n",
    "# For example, running this (by clicking run or pressing Shift+Enter) will list all files under the input directory\n",
    "\n",
    "import os\n",
    "for dirname, _, filenames in os.walk('/kaggle/input'):\n",
    "    for filename in filenames:\n",
    "        print(os.path.join(dirname, filename))\n",
    "\n",
    "# You can write up to 20GB to the current directory (/kaggle/working/) that gets preserved as output when you create a version using \"Save & Run All\" \n",
    "# You can also write temporary files to /kaggle/temp/, but they won't be saved outside of the current session"
   ]
  },
  {
   "cell_type": "code",
   "execution_count": 2,
   "id": "8b93ca30",
   "metadata": {
    "execution": {
     "iopub.execute_input": "2023-05-13T10:51:56.121276Z",
     "iopub.status.busy": "2023-05-13T10:51:56.120520Z",
     "iopub.status.idle": "2023-05-13T10:51:57.671259Z",
     "shell.execute_reply": "2023-05-13T10:51:57.670171Z"
    },
    "papermill": {
     "duration": 1.56503,
     "end_time": "2023-05-13T10:51:57.673973",
     "exception": false,
     "start_time": "2023-05-13T10:51:56.108943",
     "status": "completed"
    },
    "tags": []
   },
   "outputs": [
    {
     "name": "stderr",
     "output_type": "stream",
     "text": [
      "/opt/conda/lib/python3.10/site-packages/scipy/__init__.py:146: UserWarning: A NumPy version >=1.16.5 and <1.23.0 is required for this version of SciPy (detected version 1.23.5\n",
      "  warnings.warn(f\"A NumPy version >={np_minversion} and <{np_maxversion}\"\n"
     ]
    }
   ],
   "source": [
    "#import all the necessary packages\n",
    "\n",
    "import matplotlib.pyplot as plt\n",
    "import numpy as np\n",
    "import pandas as pd\n",
    "import seaborn as sns\n",
    "%matplotlib inline\n",
    "from matplotlib import style\n",
    "style.use('ggplot')\n",
    "import csv"
   ]
  },
  {
   "cell_type": "markdown",
   "id": "6dd08eee",
   "metadata": {
    "papermill": {
     "duration": 0.009969,
     "end_time": "2023-05-13T10:51:57.694324",
     "exception": false,
     "start_time": "2023-05-13T10:51:57.684355",
     "status": "completed"
    },
    "tags": []
   },
   "source": [
    "1. Reading the dataset"
   ]
  },
  {
   "cell_type": "code",
   "execution_count": 3,
   "id": "e1911826",
   "metadata": {
    "execution": {
     "iopub.execute_input": "2023-05-13T10:51:57.717792Z",
     "iopub.status.busy": "2023-05-13T10:51:57.716992Z",
     "iopub.status.idle": "2023-05-13T10:51:58.907548Z",
     "shell.execute_reply": "2023-05-13T10:51:58.906278Z"
    },
    "papermill": {
     "duration": 1.205798,
     "end_time": "2023-05-13T10:51:58.910501",
     "exception": false,
     "start_time": "2023-05-13T10:51:57.704703",
     "status": "completed"
    },
    "tags": []
   },
   "outputs": [
    {
     "data": {
      "text/html": [
       "<div>\n",
       "<style scoped>\n",
       "    .dataframe tbody tr th:only-of-type {\n",
       "        vertical-align: middle;\n",
       "    }\n",
       "\n",
       "    .dataframe tbody tr th {\n",
       "        vertical-align: top;\n",
       "    }\n",
       "\n",
       "    .dataframe thead th {\n",
       "        text-align: right;\n",
       "    }\n",
       "</style>\n",
       "<table border=\"1\" class=\"dataframe\">\n",
       "  <thead>\n",
       "    <tr style=\"text-align: right;\">\n",
       "      <th></th>\n",
       "      <th>product_name</th>\n",
       "      <th>product_price</th>\n",
       "      <th>Rate</th>\n",
       "      <th>Review</th>\n",
       "      <th>Summary</th>\n",
       "      <th>Sentiment</th>\n",
       "    </tr>\n",
       "  </thead>\n",
       "  <tbody>\n",
       "    <tr>\n",
       "      <th>0</th>\n",
       "      <td>Candes 12 L Room/Personal Air Cooler??????(Whi...</td>\n",
       "      <td>3999</td>\n",
       "      <td>5</td>\n",
       "      <td>super!</td>\n",
       "      <td>great cooler excellent air flow and for this p...</td>\n",
       "      <td>positive</td>\n",
       "    </tr>\n",
       "    <tr>\n",
       "      <th>1</th>\n",
       "      <td>Candes 12 L Room/Personal Air Cooler??????(Whi...</td>\n",
       "      <td>3999</td>\n",
       "      <td>5</td>\n",
       "      <td>awesome</td>\n",
       "      <td>best budget 2 fit cooler nice cooling</td>\n",
       "      <td>positive</td>\n",
       "    </tr>\n",
       "    <tr>\n",
       "      <th>2</th>\n",
       "      <td>Candes 12 L Room/Personal Air Cooler??????(Whi...</td>\n",
       "      <td>3999</td>\n",
       "      <td>3</td>\n",
       "      <td>fair</td>\n",
       "      <td>the quality is good but the power of air is de...</td>\n",
       "      <td>positive</td>\n",
       "    </tr>\n",
       "    <tr>\n",
       "      <th>3</th>\n",
       "      <td>Candes 12 L Room/Personal Air Cooler??????(Whi...</td>\n",
       "      <td>3999</td>\n",
       "      <td>1</td>\n",
       "      <td>useless product</td>\n",
       "      <td>very bad product its a only a fan</td>\n",
       "      <td>negative</td>\n",
       "    </tr>\n",
       "    <tr>\n",
       "      <th>4</th>\n",
       "      <td>Candes 12 L Room/Personal Air Cooler??????(Whi...</td>\n",
       "      <td>3999</td>\n",
       "      <td>3</td>\n",
       "      <td>fair</td>\n",
       "      <td>ok ok product</td>\n",
       "      <td>neutral</td>\n",
       "    </tr>\n",
       "  </tbody>\n",
       "</table>\n",
       "</div>"
      ],
      "text/plain": [
       "                                        product_name product_price Rate  \\\n",
       "0  Candes 12 L Room/Personal Air Cooler??????(Whi...          3999    5   \n",
       "1  Candes 12 L Room/Personal Air Cooler??????(Whi...          3999    5   \n",
       "2  Candes 12 L Room/Personal Air Cooler??????(Whi...          3999    3   \n",
       "3  Candes 12 L Room/Personal Air Cooler??????(Whi...          3999    1   \n",
       "4  Candes 12 L Room/Personal Air Cooler??????(Whi...          3999    3   \n",
       "\n",
       "            Review                                            Summary  \\\n",
       "0           super!  great cooler excellent air flow and for this p...   \n",
       "1          awesome              best budget 2 fit cooler nice cooling   \n",
       "2             fair  the quality is good but the power of air is de...   \n",
       "3  useless product                  very bad product its a only a fan   \n",
       "4             fair                                      ok ok product   \n",
       "\n",
       "  Sentiment  \n",
       "0  positive  \n",
       "1  positive  \n",
       "2  positive  \n",
       "3  negative  \n",
       "4   neutral  "
      ]
     },
     "execution_count": 3,
     "metadata": {},
     "output_type": "execute_result"
    }
   ],
   "source": [
    "df=pd.read_csv(\"/kaggle/input/flipkart-product-customer-reviews-dataset/Dataset-SA.csv\",encoding=\"unicode_escape\")\n",
    "df.head()"
   ]
  },
  {
   "cell_type": "code",
   "execution_count": 4,
   "id": "ba14eb3b",
   "metadata": {
    "execution": {
     "iopub.execute_input": "2023-05-13T10:51:58.933803Z",
     "iopub.status.busy": "2023-05-13T10:51:58.933369Z",
     "iopub.status.idle": "2023-05-13T10:51:58.939424Z",
     "shell.execute_reply": "2023-05-13T10:51:58.938113Z"
    },
    "papermill": {
     "duration": 0.020861,
     "end_time": "2023-05-13T10:51:58.942216",
     "exception": false,
     "start_time": "2023-05-13T10:51:58.921355",
     "status": "completed"
    },
    "tags": []
   },
   "outputs": [
    {
     "name": "stdout",
     "output_type": "stream",
     "text": [
      "The dataset has 205052 number of rows and 6 number of columns.\n"
     ]
    }
   ],
   "source": [
    "#check the shape of the given dataset\n",
    "print(f'The dataset has {df.shape[0]} number of rows and {df.shape[1]} number of columns.')"
   ]
  },
  {
   "cell_type": "code",
   "execution_count": 5,
   "id": "1af144ef",
   "metadata": {
    "execution": {
     "iopub.execute_input": "2023-05-13T10:51:58.965469Z",
     "iopub.status.busy": "2023-05-13T10:51:58.965054Z",
     "iopub.status.idle": "2023-05-13T10:51:58.972498Z",
     "shell.execute_reply": "2023-05-13T10:51:58.971112Z"
    },
    "papermill": {
     "duration": 0.022544,
     "end_time": "2023-05-13T10:51:58.975535",
     "exception": false,
     "start_time": "2023-05-13T10:51:58.952991",
     "status": "completed"
    },
    "tags": []
   },
   "outputs": [
    {
     "data": {
      "text/plain": [
       "Index(['product_name', 'product_price', 'Rate', 'Review', 'Summary',\n",
       "       'Sentiment'],\n",
       "      dtype='object')"
      ]
     },
     "execution_count": 5,
     "metadata": {},
     "output_type": "execute_result"
    }
   ],
   "source": [
    "#check the columns in dataset\n",
    "df.columns"
   ]
  },
  {
   "cell_type": "markdown",
   "id": "a8078d38",
   "metadata": {
    "papermill": {
     "duration": 0.010711,
     "end_time": "2023-05-13T10:51:58.997653",
     "exception": false,
     "start_time": "2023-05-13T10:51:58.986942",
     "status": "completed"
    },
    "tags": []
   },
   "source": [
    "2. Exploratory Data Analysis"
   ]
  },
  {
   "cell_type": "code",
   "execution_count": 6,
   "id": "387fcd6f",
   "metadata": {
    "execution": {
     "iopub.execute_input": "2023-05-13T10:51:59.022060Z",
     "iopub.status.busy": "2023-05-13T10:51:59.021656Z",
     "iopub.status.idle": "2023-05-13T10:51:59.075101Z",
     "shell.execute_reply": "2023-05-13T10:51:59.073790Z"
    },
    "papermill": {
     "duration": 0.068173,
     "end_time": "2023-05-13T10:51:59.077512",
     "exception": false,
     "start_time": "2023-05-13T10:51:59.009339",
     "status": "completed"
    },
    "tags": []
   },
   "outputs": [
    {
     "data": {
      "text/plain": [
       "958"
      ]
     },
     "execution_count": 6,
     "metadata": {},
     "output_type": "execute_result"
    }
   ],
   "source": [
    "#Check number of uniqueIds to see if there's any duplicate record in our dataset\n",
    "df['product_name'].nunique()"
   ]
  },
  {
   "cell_type": "code",
   "execution_count": 7,
   "id": "70faebff",
   "metadata": {
    "execution": {
     "iopub.execute_input": "2023-05-13T10:51:59.102118Z",
     "iopub.status.busy": "2023-05-13T10:51:59.101036Z",
     "iopub.status.idle": "2023-05-13T10:51:59.511588Z",
     "shell.execute_reply": "2023-05-13T10:51:59.510021Z"
    },
    "papermill": {
     "duration": 0.425456,
     "end_time": "2023-05-13T10:51:59.514074",
     "exception": false,
     "start_time": "2023-05-13T10:51:59.088618",
     "status": "completed"
    },
    "tags": []
   },
   "outputs": [
    {
     "name": "stdout",
     "output_type": "stream",
     "text": [
      "<class 'pandas.core.frame.DataFrame'>\n",
      "RangeIndex: 205052 entries, 0 to 205051\n",
      "Data columns (total 6 columns):\n",
      " #   Column         Non-Null Count   Dtype \n",
      "---  ------         --------------   ----- \n",
      " 0   product_name   205052 non-null  object\n",
      " 1   product_price  205052 non-null  object\n",
      " 2   Rate           205052 non-null  object\n",
      " 3   Review         180388 non-null  object\n",
      " 4   Summary        205041 non-null  object\n",
      " 5   Sentiment      205052 non-null  object\n",
      "dtypes: object(6)\n",
      "memory usage: 9.4+ MB\n"
     ]
    }
   ],
   "source": [
    "df.info()"
   ]
  },
  {
   "cell_type": "markdown",
   "id": "317997a7",
   "metadata": {
    "papermill": {
     "duration": 0.010637,
     "end_time": "2023-05-13T10:51:59.535855",
     "exception": false,
     "start_time": "2023-05-13T10:51:59.525218",
     "status": "completed"
    },
    "tags": []
   },
   "source": [
    "3. Data Pre-Processing"
   ]
  },
  {
   "cell_type": "code",
   "execution_count": 8,
   "id": "278b8c80",
   "metadata": {
    "execution": {
     "iopub.execute_input": "2023-05-13T10:51:59.560599Z",
     "iopub.status.busy": "2023-05-13T10:51:59.559454Z",
     "iopub.status.idle": "2023-05-13T10:51:59.944042Z",
     "shell.execute_reply": "2023-05-13T10:51:59.942505Z"
    },
    "papermill": {
     "duration": 0.400674,
     "end_time": "2023-05-13T10:51:59.947744",
     "exception": false,
     "start_time": "2023-05-13T10:51:59.547070",
     "status": "completed"
    },
    "tags": []
   },
   "outputs": [
    {
     "data": {
      "text/plain": [
       "product_name         0\n",
       "product_price        0\n",
       "Rate                 0\n",
       "Review           24664\n",
       "Summary             11\n",
       "Sentiment            0\n",
       "dtype: int64"
      ]
     },
     "execution_count": 8,
     "metadata": {},
     "output_type": "execute_result"
    }
   ],
   "source": [
    "# check the null values\n",
    "df.isnull().sum()"
   ]
  },
  {
   "cell_type": "code",
   "execution_count": 9,
   "id": "990381d2",
   "metadata": {
    "execution": {
     "iopub.execute_input": "2023-05-13T10:51:59.973791Z",
     "iopub.status.busy": "2023-05-13T10:51:59.972784Z",
     "iopub.status.idle": "2023-05-13T10:52:00.380732Z",
     "shell.execute_reply": "2023-05-13T10:52:00.379626Z"
    },
    "papermill": {
     "duration": 0.423614,
     "end_time": "2023-05-13T10:52:00.383285",
     "exception": false,
     "start_time": "2023-05-13T10:51:59.959671",
     "status": "completed"
    },
    "tags": []
   },
   "outputs": [],
   "source": [
    "\n",
    "# drop the null values\n",
    "df.dropna(inplace=True, axis=0)"
   ]
  },
  {
   "cell_type": "markdown",
   "id": "705955dc",
   "metadata": {
    "papermill": {
     "duration": 0.010912,
     "end_time": "2023-05-13T10:52:00.405604",
     "exception": false,
     "start_time": "2023-05-13T10:52:00.394692",
     "status": "completed"
    },
    "tags": []
   },
   "source": [
    "4. Pre-Processing Reviews"
   ]
  },
  {
   "cell_type": "code",
   "execution_count": 10,
   "id": "91b422cd",
   "metadata": {
    "execution": {
     "iopub.execute_input": "2023-05-13T10:52:00.430720Z",
     "iopub.status.busy": "2023-05-13T10:52:00.429935Z",
     "iopub.status.idle": "2023-05-13T10:52:00.436668Z",
     "shell.execute_reply": "2023-05-13T10:52:00.435221Z"
    },
    "papermill": {
     "duration": 0.021967,
     "end_time": "2023-05-13T10:52:00.438900",
     "exception": false,
     "start_time": "2023-05-13T10:52:00.416933",
     "status": "completed"
    },
    "tags": []
   },
   "outputs": [
    {
     "name": "stdout",
     "output_type": "stream",
     "text": [
      "super! \n",
      "\n",
      "awesome \n",
      "\n",
      "fair \n",
      "\n"
     ]
    }
   ],
   "source": [
    "#check first three reviews\n",
    "for review in df['Review'][0:3]:\n",
    "    print(review,'\\n')"
   ]
  },
  {
   "cell_type": "markdown",
   "id": "90b94f12",
   "metadata": {
    "papermill": {
     "duration": 0.011097,
     "end_time": "2023-05-13T10:52:00.461389",
     "exception": false,
     "start_time": "2023-05-13T10:52:00.450292",
     "status": "completed"
    },
    "tags": []
   },
   "source": [
    "* Remove HTML tags\n",
    "Using BeautifulSoup from bs4 module to remove the html tags. We have already removed the html tags with pattern \"64...\", we will use get_text() to remove the html tags if there are any.\n",
    "* Remove Stop Words\n",
    "Remove the stopwords like \"a\", \"the\", \"I\" etc.\n",
    "Remove symbols and special characters.\n",
    "We will remove the special characters from our reviews like '#' ,'&' ,'@' etc.\n",
    "* Tokenize\n",
    "We will tokenize the words. We will split the sentences with spaces e.g \"I might come\" --> \"I\", \"might\", \"come\"\n",
    "* Stemming -Remove the suffixes from the words to get the root form of the word. e.g 'Wording' --> \"Word\""
   ]
  },
  {
   "cell_type": "code",
   "execution_count": 11,
   "id": "0c673ab4",
   "metadata": {
    "execution": {
     "iopub.execute_input": "2023-05-13T10:52:00.485641Z",
     "iopub.status.busy": "2023-05-13T10:52:00.485235Z",
     "iopub.status.idle": "2023-05-13T10:52:01.784851Z",
     "shell.execute_reply": "2023-05-13T10:52:01.783250Z"
    },
    "papermill": {
     "duration": 1.315299,
     "end_time": "2023-05-13T10:52:01.787994",
     "exception": false,
     "start_time": "2023-05-13T10:52:00.472695",
     "status": "completed"
    },
    "tags": []
   },
   "outputs": [
    {
     "name": "stdout",
     "output_type": "stream",
     "text": [
      "[nltk_data] Downloading package stopwords to /usr/share/nltk_data...\n",
      "[nltk_data]   Package stopwords is already up-to-date!\n"
     ]
    }
   ],
   "source": [
    "#import the libraries for pre-processing\n",
    "from bs4 import BeautifulSoup\n",
    "import nltk\n",
    "import re\n",
    "from nltk.corpus import stopwords\n",
    "from nltk.stem.snowball import SnowballStemmer\n",
    "\n",
    "# Download the stop words corpus\n",
    "nltk.download('stopwords')\n",
    "\n",
    "stops = set(stopwords.words('english')) #english stopwords\n",
    "\n",
    "stemmer = SnowballStemmer('english') #SnowballStemmer\n",
    "\n",
    "def review_to_words(raw_review):\n",
    "    # 1. Delete HTML \n",
    "    review_text = BeautifulSoup(raw_review, 'html.parser').get_text()\n",
    "    # 2. Make a space\n",
    "    letters_only = re.sub('[^a-zA-Z]', ' ', review_text)\n",
    "    # 3. lower letters\n",
    "    words = letters_only.lower().split()\n",
    "    # 5. Stopwords \n",
    "    meaningful_words = [w for w in words if not w in stops]\n",
    "    # 6. Stemming\n",
    "    stemming_words = [stemmer.stem(w) for w in meaningful_words]\n",
    "    # 7. space join words\n",
    "    return( ' '.join(stemming_words))\n"
   ]
  },
  {
   "cell_type": "code",
   "execution_count": 12,
   "id": "92fe8386",
   "metadata": {
    "execution": {
     "iopub.execute_input": "2023-05-13T10:52:01.816151Z",
     "iopub.status.busy": "2023-05-13T10:52:01.815269Z",
     "iopub.status.idle": "2023-05-13T10:52:19.544481Z",
     "shell.execute_reply": "2023-05-13T10:52:19.543148Z"
    },
    "papermill": {
     "duration": 17.746687,
     "end_time": "2023-05-13T10:52:19.547732",
     "exception": false,
     "start_time": "2023-05-13T10:52:01.801045",
     "status": "completed"
    },
    "tags": []
   },
   "outputs": [
    {
     "name": "stderr",
     "output_type": "stream",
     "text": [
      "/tmp/ipykernel_20/2586090758.py:17: MarkupResemblesLocatorWarning: The input looks more like a filename than markup. You may want to open this file and pass the filehandle into Beautiful Soup.\n",
      "  review_text = BeautifulSoup(raw_review, 'html.parser').get_text()\n"
     ]
    }
   ],
   "source": [
    "#apply review_to_words function on reviews\n",
    "df['Review'] = df['Review'].apply(review_to_words)"
   ]
  },
  {
   "cell_type": "code",
   "execution_count": 13,
   "id": "19e10b47",
   "metadata": {
    "execution": {
     "iopub.execute_input": "2023-05-13T10:52:19.573519Z",
     "iopub.status.busy": "2023-05-13T10:52:19.572734Z",
     "iopub.status.idle": "2023-05-13T10:52:19.638766Z",
     "shell.execute_reply": "2023-05-13T10:52:19.637663Z"
    },
    "papermill": {
     "duration": 0.081477,
     "end_time": "2023-05-13T10:52:19.641304",
     "exception": false,
     "start_time": "2023-05-13T10:52:19.559827",
     "status": "completed"
    },
    "tags": []
   },
   "outputs": [],
   "source": [
    "from sklearn.preprocessing import LabelEncoder\n",
    "\n",
    "# apply label encoding to the sentiment column\n",
    "encoder = LabelEncoder()\n",
    "df['sentiment_encoded'] = encoder.fit_transform(df['Sentiment'])"
   ]
  },
  {
   "cell_type": "markdown",
   "id": "78212c7a",
   "metadata": {
    "papermill": {
     "duration": 0.011198,
     "end_time": "2023-05-13T10:52:19.664019",
     "exception": false,
     "start_time": "2023-05-13T10:52:19.652821",
     "status": "completed"
    },
    "tags": []
   },
   "source": [
    "6. Model Building"
   ]
  },
  {
   "cell_type": "code",
   "execution_count": 14,
   "id": "822a7d85",
   "metadata": {
    "execution": {
     "iopub.execute_input": "2023-05-13T10:52:19.688789Z",
     "iopub.status.busy": "2023-05-13T10:52:19.688394Z",
     "iopub.status.idle": "2023-05-13T10:52:20.020572Z",
     "shell.execute_reply": "2023-05-13T10:52:20.019264Z"
    },
    "papermill": {
     "duration": 0.348011,
     "end_time": "2023-05-13T10:52:20.023495",
     "exception": false,
     "start_time": "2023-05-13T10:52:19.675484",
     "status": "completed"
    },
    "tags": []
   },
   "outputs": [],
   "source": [
    "#import all the necessary packages\n",
    "\n",
    "from sklearn.model_selection import train_test_split #import train_test_split\n",
    "from sklearn.feature_extraction.text import TfidfVectorizer #import TfidfVectorizer \n",
    "from sklearn.metrics import confusion_matrix #import confusion_matrix\n",
    "from sklearn.naive_bayes import MultinomialNB #import MultinomialNB\n",
    "from sklearn.ensemble import RandomForestClassifier  #import RandomForestClassifier"
   ]
  },
  {
   "cell_type": "markdown",
   "id": "58a044fb",
   "metadata": {
    "papermill": {
     "duration": 0.010991,
     "end_time": "2023-05-13T10:52:20.046109",
     "exception": false,
     "start_time": "2023-05-13T10:52:20.035118",
     "status": "completed"
    },
    "tags": []
   },
   "source": [
    "We all know that we cannot pass raw text features in our model. We have to convert them into numeric values. We will use TfidfVectorizer to convert our reviews in numeric features."
   ]
  },
  {
   "cell_type": "code",
   "execution_count": 15,
   "id": "b2bc9865",
   "metadata": {
    "execution": {
     "iopub.execute_input": "2023-05-13T10:52:20.070539Z",
     "iopub.status.busy": "2023-05-13T10:52:20.070125Z",
     "iopub.status.idle": "2023-05-13T10:52:21.268211Z",
     "shell.execute_reply": "2023-05-13T10:52:21.267012Z"
    },
    "papermill": {
     "duration": 1.213368,
     "end_time": "2023-05-13T10:52:21.270807",
     "exception": false,
     "start_time": "2023-05-13T10:52:20.057439",
     "status": "completed"
    },
    "tags": []
   },
   "outputs": [
    {
     "data": {
      "text/plain": [
       "(180379, 1018)"
      ]
     },
     "execution_count": 15,
     "metadata": {},
     "output_type": "execute_result"
    }
   ],
   "source": [
    "# Creates TF-IDF vectorizer and transforms the corpus\n",
    "vectorizer = TfidfVectorizer()\n",
    "reviews_corpus = vectorizer.fit_transform(df.Review)\n",
    "reviews_corpus.shape"
   ]
  },
  {
   "cell_type": "markdown",
   "id": "2ee9f1ac",
   "metadata": {
    "papermill": {
     "duration": 0.011968,
     "end_time": "2023-05-13T10:52:21.294282",
     "exception": false,
     "start_time": "2023-05-13T10:52:21.282314",
     "status": "completed"
    },
    "tags": []
   },
   "source": [
    "We have built reviews_corpus which are the independent feature in our model."
   ]
  },
  {
   "cell_type": "code",
   "execution_count": 16,
   "id": "545e6583",
   "metadata": {
    "execution": {
     "iopub.execute_input": "2023-05-13T10:52:21.319952Z",
     "iopub.status.busy": "2023-05-13T10:52:21.319141Z",
     "iopub.status.idle": "2023-05-13T10:52:21.326185Z",
     "shell.execute_reply": "2023-05-13T10:52:21.325303Z"
    },
    "papermill": {
     "duration": 0.022289,
     "end_time": "2023-05-13T10:52:21.328438",
     "exception": false,
     "start_time": "2023-05-13T10:52:21.306149",
     "status": "completed"
    },
    "tags": []
   },
   "outputs": [
    {
     "data": {
      "text/plain": [
       "(180379,)"
      ]
     },
     "execution_count": 16,
     "metadata": {},
     "output_type": "execute_result"
    }
   ],
   "source": [
    "#dependent feature\n",
    "sentiment = df['sentiment_encoded']\n",
    "sentiment.shape"
   ]
  },
  {
   "cell_type": "code",
   "execution_count": 17,
   "id": "c4c3c60c",
   "metadata": {
    "execution": {
     "iopub.execute_input": "2023-05-13T10:52:21.354549Z",
     "iopub.status.busy": "2023-05-13T10:52:21.353892Z",
     "iopub.status.idle": "2023-05-13T10:52:21.392673Z",
     "shell.execute_reply": "2023-05-13T10:52:21.391328Z"
    },
    "papermill": {
     "duration": 0.055162,
     "end_time": "2023-05-13T10:52:21.395234",
     "exception": false,
     "start_time": "2023-05-13T10:52:21.340072",
     "status": "completed"
    },
    "tags": []
   },
   "outputs": [
    {
     "name": "stdout",
     "output_type": "stream",
     "text": [
      "Train data shape  (120853, 1018) (120853,)\n",
      "Test data shape  (59526, 1018) (59526,)\n"
     ]
    }
   ],
   "source": [
    "#split the data in train and test\n",
    "from sklearn.model_selection import train_test_split\n",
    "X_train,X_test,Y_train,Y_test = train_test_split(reviews_corpus,sentiment,test_size=0.33,random_state=42)\n",
    "print('Train data shape ',X_train.shape,Y_train.shape)\n",
    "print('Test data shape ',X_test.shape,Y_test.shape)"
   ]
  },
  {
   "cell_type": "markdown",
   "id": "6442cb56",
   "metadata": {
    "papermill": {
     "duration": 0.011453,
     "end_time": "2023-05-13T10:52:21.418972",
     "exception": false,
     "start_time": "2023-05-13T10:52:21.407519",
     "status": "completed"
    },
    "tags": []
   },
   "source": [
    "Apply Multinomial Naive Bayes"
   ]
  },
  {
   "cell_type": "markdown",
   "id": "9027ecbb",
   "metadata": {
    "papermill": {
     "duration": 0.011495,
     "end_time": "2023-05-13T10:52:21.442620",
     "exception": false,
     "start_time": "2023-05-13T10:52:21.431125",
     "status": "completed"
    },
    "tags": []
   },
   "source": [
    "* Multinomial Naive Bayes is useful for determining the emotional tone of a piece of text, such as a tweet, product review, or customer feedbacks. The model works by computing the probability of each possible sentiment label (positive, negative, neutral) given a piece of text."
   ]
  },
  {
   "cell_type": "code",
   "execution_count": 18,
   "id": "9eb79044",
   "metadata": {
    "execution": {
     "iopub.execute_input": "2023-05-13T10:52:21.468838Z",
     "iopub.status.busy": "2023-05-13T10:52:21.467642Z",
     "iopub.status.idle": "2023-05-13T10:52:21.522204Z",
     "shell.execute_reply": "2023-05-13T10:52:21.520835Z"
    },
    "papermill": {
     "duration": 0.07067,
     "end_time": "2023-05-13T10:52:21.525147",
     "exception": false,
     "start_time": "2023-05-13T10:52:21.454477",
     "status": "completed"
    },
    "tags": []
   },
   "outputs": [
    {
     "name": "stdout",
     "output_type": "stream",
     "text": [
      "Accuracy: 0.9029163726774855\n",
      "Confusion Matrix\n",
      "[[ 5804   511   493]\n",
      " [   18     7    93]\n",
      " [ 2273  2391 47936]]\n"
     ]
    }
   ],
   "source": [
    "clf = MultinomialNB().fit(X_train, Y_train) #fit the training data\n",
    "\n",
    "pred = clf.predict(X_test) #predict the sentiment for test data\n",
    "\n",
    "print(\"Accuracy: %s\" % str(clf.score(X_test, Y_test))) #check accuracy\n",
    "print(\"Confusion Matrix\") \n",
    "print(confusion_matrix(pred, Y_test)) #print confusion matrix"
   ]
  },
  {
   "cell_type": "markdown",
   "id": "0c9b2f28",
   "metadata": {
    "papermill": {
     "duration": 0.011499,
     "end_time": "2023-05-13T10:52:21.548737",
     "exception": false,
     "start_time": "2023-05-13T10:52:21.537238",
     "status": "completed"
    },
    "tags": []
   },
   "source": [
    "We got an accuracy of 90.2% by using NaiveBayes."
   ]
  },
  {
   "cell_type": "code",
   "execution_count": 19,
   "id": "5c399754",
   "metadata": {
    "execution": {
     "iopub.execute_input": "2023-05-13T10:52:21.574109Z",
     "iopub.status.busy": "2023-05-13T10:52:21.573715Z",
     "iopub.status.idle": "2023-05-13T10:53:14.551359Z",
     "shell.execute_reply": "2023-05-13T10:53:14.550172Z"
    },
    "papermill": {
     "duration": 53.004707,
     "end_time": "2023-05-13T10:53:14.565330",
     "exception": false,
     "start_time": "2023-05-13T10:52:21.560623",
     "status": "completed"
    },
    "tags": []
   },
   "outputs": [
    {
     "name": "stdout",
     "output_type": "stream",
     "text": [
      "Accuracy: 0.9096361253905856\n",
      "Confusion Matrix\n",
      "[[ 6121   524   494]\n",
      " [    0     0     2]\n",
      " [ 1974  2385 48026]]\n"
     ]
    }
   ],
   "source": [
    "#fit the model and predicct the output\n",
    "\n",
    "clf = RandomForestClassifier().fit(X_train, Y_train)\n",
    "\n",
    "pred = clf.predict(X_test)\n",
    "\n",
    "print(\"Accuracy: %s\" % str(clf.score(X_test, Y_test)))\n",
    "print(\"Confusion Matrix\")\n",
    "print(confusion_matrix(pred, Y_test))"
   ]
  },
  {
   "cell_type": "markdown",
   "id": "b48fef44",
   "metadata": {
    "papermill": {
     "duration": 0.011616,
     "end_time": "2023-05-13T10:53:14.588720",
     "exception": false,
     "start_time": "2023-05-13T10:53:14.577104",
     "status": "completed"
    },
    "tags": []
   },
   "source": []
  },
  {
   "cell_type": "markdown",
   "id": "5568c44e",
   "metadata": {
    "papermill": {
     "duration": 0.011587,
     "end_time": "2023-05-13T10:53:14.612144",
     "exception": false,
     "start_time": "2023-05-13T10:53:14.600557",
     "status": "completed"
    },
    "tags": []
   },
   "source": [
    "Once we transformed our reviews into vectors using TfidfVectorizer and used both NaiveBayes and RandomForestClassifier, we observed that RandomForestClassifier outperformed MultinomialNB. \n",
    "By using RandomForestClassifier without any parameter tuning, we attained an accuracy of 90.95%. However, we can still further improve our accuracy by tuning the parameters of our classifier."
   ]
  },
  {
   "cell_type": "markdown",
   "id": "582c403d",
   "metadata": {
    "papermill": {
     "duration": 0.011618,
     "end_time": "2023-05-13T10:53:14.635549",
     "exception": false,
     "start_time": "2023-05-13T10:53:14.623931",
     "status": "completed"
    },
    "tags": []
   },
   "source": [
    "RandomForestClassifier proved better for sentiment analysis as the model contains labeled dataset of texts with corresponding sentiment labels (positive, negative, neutral). "
   ]
  },
  {
   "cell_type": "markdown",
   "id": "9e66d4ad",
   "metadata": {
    "papermill": {
     "duration": 0.011608,
     "end_time": "2023-05-13T10:53:14.659111",
     "exception": false,
     "start_time": "2023-05-13T10:53:14.647503",
     "status": "completed"
    },
    "tags": []
   },
   "source": []
  },
  {
   "cell_type": "markdown",
   "id": "b06d06d9",
   "metadata": {
    "papermill": {
     "duration": 0.01158,
     "end_time": "2023-05-13T10:53:14.682607",
     "exception": false,
     "start_time": "2023-05-13T10:53:14.671027",
     "status": "completed"
    },
    "tags": []
   },
   "source": []
  },
  {
   "cell_type": "markdown",
   "id": "3c8f4f95",
   "metadata": {
    "papermill": {
     "duration": 0.011602,
     "end_time": "2023-05-13T10:53:14.706126",
     "exception": false,
     "start_time": "2023-05-13T10:53:14.694524",
     "status": "completed"
    },
    "tags": []
   },
   "source": []
  },
  {
   "cell_type": "markdown",
   "id": "bcc9741d",
   "metadata": {
    "papermill": {
     "duration": 0.01174,
     "end_time": "2023-05-13T10:53:14.729723",
     "exception": false,
     "start_time": "2023-05-13T10:53:14.717983",
     "status": "completed"
    },
    "tags": []
   },
   "source": []
  }
 ],
 "metadata": {
  "kernelspec": {
   "display_name": "Python 3",
   "language": "python",
   "name": "python3"
  },
  "language_info": {
   "codemirror_mode": {
    "name": "ipython",
    "version": 3
   },
   "file_extension": ".py",
   "mimetype": "text/x-python",
   "name": "python",
   "nbconvert_exporter": "python",
   "pygments_lexer": "ipython3",
   "version": "3.10.10"
  },
  "papermill": {
   "default_parameters": {},
   "duration": 92.714921,
   "end_time": "2023-05-13T10:53:15.865170",
   "environment_variables": {},
   "exception": null,
   "input_path": "__notebook__.ipynb",
   "output_path": "__notebook__.ipynb",
   "parameters": {},
   "start_time": "2023-05-13T10:51:43.150249",
   "version": "2.4.0"
  }
 },
 "nbformat": 4,
 "nbformat_minor": 5
}
